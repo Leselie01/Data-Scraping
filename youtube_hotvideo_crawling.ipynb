{
 "cells": [
  {
   "cell_type": "code",
   "execution_count": 2,
   "id": "c323e272",
   "metadata": {},
   "outputs": [
    {
     "name": "stderr",
     "output_type": "stream",
     "text": [
      "C:\\Users\\cyg05\\AppData\\Local\\Temp/ipykernel_35108/629806402.py:2: DeprecationWarning: executable_path has been deprecated, please pass in a Service object\n",
      "  browser = webdriver.Chrome('c:/informs/chromedriver.exe')\n"
     ]
    }
   ],
   "source": [
    "from selenium import webdriver\n",
    "from bs4 import BeautifulSoup\n",
    "browser = webdriver.Chrome('c:/informs/chromedriver.exe')\n"
   ]
  },
  {
   "cell_type": "code",
   "execution_count": 3,
   "id": "623696aa",
   "metadata": {},
   "outputs": [],
   "source": [
    "url = 'https://www.youtube.com/feed/explore'\n",
    "browser.get(url)"
   ]
  },
  {
   "cell_type": "code",
   "execution_count": 5,
   "id": "da09af8b",
   "metadata": {},
   "outputs": [],
   "source": [
    "html = browser.page_source"
   ]
  },
  {
   "cell_type": "code",
   "execution_count": 6,
   "id": "d90be37d",
   "metadata": {},
   "outputs": [],
   "source": [
    "soup = BeautifulSoup(html, 'html.parser')"
   ]
  },
  {
   "cell_type": "code",
   "execution_count": 13,
   "id": "e90d170c",
   "metadata": {},
   "outputs": [
    {
     "data": {
      "text/plain": [
       "50"
      ]
     },
     "execution_count": 13,
     "metadata": {},
     "output_type": "execute_result"
    }
   ],
   "source": [
    "clips = soup.select('ytd-video-renderer')\n",
    "len(clips)"
   ]
  },
  {
   "cell_type": "code",
   "execution_count": 8,
   "id": "d2fc7143",
   "metadata": {},
   "outputs": [],
   "source": [
    "#정답을 알 경우 -> 정답이랑 일치할 경우 -> Next\n",
    "#정답을 알 경우 -> 정답 수보다 큰 경우 -> 추가 정보를 더 줘야합니다\n",
    "#정답을 모르는 경우 -> 제일 위쪽/제일 아래쪽 살펴봅니다\n",
    "#정답을 모르는 경우 (스크롤 내리면 계속 데이터가 추가 될때)"
   ]
  },
  {
   "cell_type": "code",
   "execution_count": 18,
   "id": "61d58b49",
   "metadata": {},
   "outputs": [
    {
     "data": {
      "text/plain": [
       "'\\n\\n고전하는 푸틴…\"전술적 실수·군사적 결점 노출\" / 연합뉴스TV (YonhapnewsTV)\\n'"
      ]
     },
     "execution_count": 18,
     "metadata": {},
     "output_type": "execute_result"
    }
   ],
   "source": [
    "clip = clips[0]\n",
    "title = clip.select('#video-title')[0].text\n",
    "title\n"
   ]
  },
  {
   "cell_type": "code",
   "execution_count": 26,
   "id": "346cc4ab",
   "metadata": {},
   "outputs": [
    {
     "name": "stdout",
     "output_type": "stream",
     "text": [
      "['고전하는 푸틴…\"전술적 실수·군사적 결점 노출\" / 연합뉴스TV (YonhapnewsTV)', 'https://www.youtube.com/watch?v=H6An93EAptI']\n",
      "[\"[#확끌립] 33호 가수 김기태의 파이널 라운드 무대 ♬'사랑한 후에' 싱어게인2(singagain2) | JTBC 220228 방송\", 'https://www.youtube.com/watch?v=byMoJf-k3no']\n",
      "['감스트 여자친구 공개합니다!!', 'https://www.youtube.com/watch?v=kRJ_UEgK4os']\n",
      "['세탁기에 다 쓴 치약을 넣으면 놀라운 효과가 생긴다는 사실을 방금 알아냈습니다! 많이 배우네요 욕심이 납니다', 'https://www.youtube.com/watch?v=th8z3hmn3c8']\n",
      "['연도별 코로나 공감 ㄹㅇㅋㅋ #1일1재영 #웃긴영상 #코로나19', 'https://www.youtube.com/watch?v=hUrWDBShgCE']\n",
      "['오킹 한 번 불렀다가 다들 기 빨려서 맛탱이 갔습니다... | 바퀴 달린 입 EP.03', 'https://www.youtube.com/watch?v=xY3w0TqqYcY']\n",
      "['왼손에 챌린저 오른손에 프로게이머', 'https://www.youtube.com/watch?v=9GIwkpl9yyY']\n",
      "['[sub] 🧳ep.7-2｜십오야게임연구소 신규 게임 출시!｜🧳출장 십오야2', 'https://www.youtube.com/watch?v=0Feuchkg5nM']\n",
      "['[sub] 🧳ep. 7-1｜긴장감 있는 예능계에 느슨함을 주는 YG 예능 괴물들의 등장｜🧳출장 십오야2', 'https://www.youtube.com/watch?v=og-vF8E39Q8']\n",
      "['[어둑시니Pick] ＂사람 아인 게 보여가..＂ 홍삼 할머니의 507호 병실에서 일어난 일｜#심야괴담회 MBC220224방송', 'https://www.youtube.com/watch?v=cSIPNcpbUqU']\n",
      "['[혜찌] 지나가던 후배 한놈 꼬셔봤습니다.', 'https://www.youtube.com/watch?v=6YCyki91xzQ']\n",
      "['[4K 세로직캠] 전유진 - 그 강을 건너지마오 ❤화요일은 밤이 좋아❤ 무편집 초고화질 세로직캠', 'https://www.youtube.com/watch?v=o_2iBt-g-Gg']\n",
      "['[Spot to Life] 흩어진 꿈을 모아서 - 이승윤', 'https://www.youtube.com/watch?v=DEZBxpVAhoY']\n",
      "['미국, \"러시아 10만 병력 동원\"…핵 움직임에 에너지 제재 검토 [굿모닝 MBN]', 'https://www.youtube.com/watch?v=4G1YqZSdMlM']\n",
      "['러시아군 위치 공개하고 흑색선전 차단…우크라 돕는 IT기업들 / JTBC 뉴스룸', 'https://www.youtube.com/watch?v=RloU2lZpHqc']\n",
      "[\"[LIVE] NMIXX 엔믹스 'O.O' (오오) Showcase Stage 쇼케이스 무대 (릴리, 해원, 설윤, 지니, 배이, 지우, 규진)ㅣTongTongCulture\", 'https://www.youtube.com/watch?v=9zkdgMTuTSY']\n",
      "['\"엄마 너무 힘들어요\"‥러시아 병사의 마지막 문자 (2022.03.01/뉴스데스크/MBC)', 'https://www.youtube.com/watch?v=Z8IRpxOsYV8']\n",
      "['STAYC, RUN2U (스테이씨, RUN2U) [THE SHOW 220301]', 'https://www.youtube.com/watch?v=KUnuRVgHG80']\n",
      "['반장 선거 공약', 'https://www.youtube.com/watch?v=GEqzRsCtbQY']\n",
      "['쩝쩝쩝쩝쩝쩝쩝쩝쩝쩝쩝쩝쩝쩝쩝쩝쩝쩝쩝쩝쩝쩝쩝쩝쩝쩝쩝쩝쩝쩝쩝쩝쩝쩝쩝쩝쩝쩝쩝쩝쩝쩝쩝쩝쩝쩝쩝쩝쩝쩝쩝쩝쩝쩝쩝쩝쩝쩝쩝쩝쩝쩝쩝쩝쩝쩝쩝쩝쩝쩝쩝쩝쩝쩝쩝쩝쩝쩝쩝쩝쩝쩝쩝쩝쩝쩝쩝쩝쩝쩝쩝쩝쩝쩝쩝쩝쩝쩝쩝쩝', 'https://www.youtube.com/watch?v=gm9up6OAU8Y']\n",
      "['Heung-Min Son & Harry Kane break Premier League record! 🙌 | HIGHLIGHTS | Leeds 0-4 Spurs', 'https://www.youtube.com/watch?v=wAqrGqX7plE']\n",
      "['늦은만큼 솔직하게 다 말씀드리겠습니다. 깨벼리Q&A', 'https://www.youtube.com/watch?v=_s5EKJ7e0bM']\n",
      "['영수증 버리면 안 되는 이유', 'https://www.youtube.com/watch?v=EWR3LfUqRmc']\n",
      "['18평 빌라 거실, 스마트오피스로 미친 대변신 - 자취(4)', 'https://www.youtube.com/watch?v=gbuECeot_hg']\n",
      "['💙메이킹💙 김태리x남주혁 사이 달콩이 최태준 등장! 그 북흐북흐 현장 속으로...☆ #스물다섯스물하나 EP.7', 'https://www.youtube.com/watch?v=SMGLB5PJB3g']\n",
      "['[자막뉴스] 스위스 대통령 말 한 마디에 당혹스러운 러시아 / YTN', 'https://www.youtube.com/watch?v=2CYbIHIlBZA']\n",
      "['“러시아, 세계 잔치 낄 자격 없다” 월드컵서 퇴출 | 뉴스A', 'https://www.youtube.com/watch?v=CyUPTpIrUQU']\n",
      "['[짤툰 숏툰] 경찰 출동 시키는 시바견 엄살', 'https://www.youtube.com/watch?v=ONBW5e5qCYk']\n",
      "['카푸어로 사는 남자 (8화) [영상툰]', 'https://www.youtube.com/watch?v=Y22SsWVflX8']\n",
      "['[35사담_#83] 외국인 동네(이태원)에서 인도, 파키스탄, 네팔 3자 대면함', 'https://www.youtube.com/watch?v=_d3XYui5vnM']\n",
      "['이거 게임 분위기가 심상치않다...김국진 진지한 모습을 보이다!  _ 임창정과 라운드 2화', 'https://www.youtube.com/watch?v=d3Ss4xaVYLY']\n",
      "['ASK펄', 'https://www.youtube.com/watch?v=JFoCozP410U']\n",
      "['당근마켓 네고는 채팅으로 하셔야죠', 'https://www.youtube.com/watch?v=0pbbem7Lyf0']\n",
      "['누나 맞고다니지 말라고;; #1일1재영 #아재혜다 #웃긴영상', 'https://www.youtube.com/watch?v=G6DySdseNAQ']\n",
      "['블루레몬에이드 + 모구모구 요구르트맛 = ?', 'https://www.youtube.com/watch?v=a6yHyHvk15Y']\n",
      "['K-웹툰 역사상 최대 위기(?)', 'https://www.youtube.com/watch?v=WJX7QsVHQEs']\n",
      "['Lee Jung-Jae: Award Acceptance Speech | 28th Annual SAG Awards | TNT', 'https://www.youtube.com/watch?v=gr-W4Y8YtkM']\n",
      "['[특별편] 응말랭 동물원에 가다...', 'https://www.youtube.com/watch?v=saM-BQ6-ic8']\n",
      "[\"'결사항전' 벌이는 우크라군…러시아군은 곳곳에서 고전 / SBS\", 'https://www.youtube.com/watch?v=jjJ7-tI1lPI']\n",
      "['격투 유튜버 검정 vs 복싱 1위 신종훈 [블랙컴뱃01]', 'https://www.youtube.com/watch?v=PMrxDUr2OEE']\n",
      "['HoYeon Jung: Award Acceptance Speech | 28th Annual SAG Awards | TNT', 'https://www.youtube.com/watch?v=VH1sxYGdUr0']\n",
      "['[NMIXX] \"O.O\" Dance Practice', 'https://www.youtube.com/watch?v=DJYYqCl7emc']\n",
      "['술집에서 소주보다 더 많이 팔린다는 그 요리', 'https://www.youtube.com/watch?v=r_ojNmnKPWo']\n",
      "['두 얼굴 - 프레디의 피자가게 : 시큐리티 브리치 애니메이션', 'https://www.youtube.com/watch?v=Cnetp5qdZ_U']\n",
      "['무료 PT', 'https://www.youtube.com/watch?v=KKmvCxsrO4I']\n",
      "['꺼져', 'https://www.youtube.com/watch?v=FJ8Z6lOVEfk']\n",
      "['지우학 보면서 가장 이해 안됐던 부분', 'https://www.youtube.com/watch?v=LZbgIwsufiU']\n",
      "['\"물\"을 튀길 수 있는 놀라운 방법(따라하지 마세요) #Shorts', 'https://www.youtube.com/watch?v=gpPAIWZ0CCo']\n",
      "['Brawl Stars: Brawl Talk - Flying Brawler, Game Modes, and MORE!', 'https://www.youtube.com/watch?v=4oJ7gAdaU5A']\n",
      "['개는 안돼', 'https://www.youtube.com/watch?v=gLvD-waR_4A']\n"
     ]
    },
    {
     "data": {
      "text/plain": [
       "50"
      ]
     },
     "execution_count": 26,
     "metadata": {},
     "output_type": "execute_result"
    }
   ],
   "source": [
    "#clip = clips[0]\n",
    "results = [ ]\n",
    "for clip in clips:\n",
    "    \n",
    "    title = clip.select('#video-title > yt-formatted-string')[0].text\n",
    "    link = 'https://www.youtube.com' + clip.select('#video-title')[0]['href']\n",
    "    \n",
    "    data = [title, link]\n",
    "    print(data)\n",
    "    results.append(data)"
   ]
  },
  {
   "cell_type": "code",
   "execution_count": 33,
   "id": "bf8ef9cf",
   "metadata": {},
   "outputs": [],
   "source": [
    "import pandas as pd\n",
    "df = pd.DataFrame(results)\n",
    "df.to_excel('./인기영상리스트.xlsx', index = False)"
   ]
  },
  {
   "cell_type": "code",
   "execution_count": null,
   "id": "699a659a",
   "metadata": {},
   "outputs": [],
   "source": []
  }
 ],
 "metadata": {
  "kernelspec": {
   "display_name": "Python 3 (ipykernel)",
   "language": "python",
   "name": "python3"
  },
  "language_info": {
   "codemirror_mode": {
    "name": "ipython",
    "version": 3
   },
   "file_extension": ".py",
   "mimetype": "text/x-python",
   "name": "python",
   "nbconvert_exporter": "python",
   "pygments_lexer": "ipython3",
   "version": "3.9.7"
  }
 },
 "nbformat": 4,
 "nbformat_minor": 5
}
