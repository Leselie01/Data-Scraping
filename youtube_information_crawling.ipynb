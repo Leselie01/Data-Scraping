{
 "cells": [
  {
   "cell_type": "code",
   "execution_count": 1,
   "id": "3d4ade1b",
   "metadata": {},
   "outputs": [],
   "source": [
    "from selenium import webdriver\n",
    "from bs4 import BeautifulSoup"
   ]
  },
  {
   "cell_type": "code",
   "execution_count": 2,
   "id": "ca686fb4",
   "metadata": {},
   "outputs": [
    {
     "name": "stderr",
     "output_type": "stream",
     "text": [
      "C:\\Users\\cyg05\\AppData\\Local\\Temp/ipykernel_3584/3911693138.py:1: DeprecationWarning: executable_path has been deprecated, please pass in a Service object\n",
      "  browser = webdriver.Chrome('c:/informs/chromedriver.exe')\n"
     ]
    }
   ],
   "source": [
    "browser = webdriver.Chrome('c:/informs/chromedriver.exe')"
   ]
  },
  {
   "cell_type": "code",
   "execution_count": 3,
   "id": "a6f90196",
   "metadata": {},
   "outputs": [],
   "source": [
    "url = 'https://www.youtube.com/watch?v=og-vF8E39Q8'\n",
    "browser.get(url)"
   ]
  },
  {
   "cell_type": "code",
   "execution_count": 4,
   "id": "45555a17",
   "metadata": {},
   "outputs": [],
   "source": [
    "html = browser.page_source\n",
    "soup = BeautifulSoup(html, 'html.parser')"
   ]
  },
  {
   "cell_type": "code",
   "execution_count": 6,
   "id": "27e4eba0",
   "metadata": {
    "scrolled": true
   },
   "outputs": [
    {
     "name": "stdout",
     "output_type": "stream",
     "text": [
      "[sub] 🧳ep. 7-1｜긴장감 있는 예능계에 느슨함을 주는 YG 예능 괴물들의 등장｜🧳출장 십오야2  5,936,285 최초 공개: 2022. 2. 25.\n"
     ]
    }
   ],
   "source": [
    "#class 속성값을 가져올 때 띄어쓰기 -> .\n",
    "title = soup.select('h1 > yt-formatted-string.style-scope.ytd-video-primary-info-renderer')[0].text\n",
    "title\n",
    "\n",
    "#view_count = soup.select('span.view-count.style-scope.ytd-video-view-count-renderer')[0].text\n",
    "view_count = soup.select('span.view-count.style-scope.ytd-video-view-count-renderer')[0].text.replace('조회수', '').replace('회', '')\n",
    "view_count\n",
    "\n",
    "open_date = soup.select('div#info-strings > yt-formatted-string.style-scope.ytd-video-primary-info-renderer')[0].text\n",
    "open_date\n",
    "\n",
    "print(title, view_count, open_date)"
   ]
  },
  {
   "cell_type": "code",
   "execution_count": 7,
   "id": "3c79e752",
   "metadata": {},
   "outputs": [
    {
     "data": {
      "text/plain": [
       "'301,508'"
      ]
     },
     "execution_count": 7,
     "metadata": {},
     "output_type": "execute_result"
    }
   ],
   "source": [
    "likes = soup.select('a > yt-formatted-string#text')[0]['aria-label'][4:-1]\n",
    "likes"
   ]
  },
  {
   "cell_type": "code",
   "execution_count": 9,
   "id": "90708774",
   "metadata": {},
   "outputs": [],
   "source": [
    "html = browser.page_source\n",
    "soup = BeautifulSoup(html, 'html.parser')"
   ]
  },
  {
   "cell_type": "code",
   "execution_count": 20,
   "id": "ffff5194",
   "metadata": {},
   "outputs": [
    {
     "name": "stdout",
     "output_type": "stream",
     "text": [
      "We will add English subtitle as soon as possible! Thank you for waiting 채널 십오야\n"
     ]
    }
   ],
   "source": [
    "replies = soup.select('ytd-comment-thread-renderer')\n",
    "#reply = replies[0]\n",
    "\n",
    "for reply in replies:\n",
    "    reply_content = reply.select('#content-text')[0].text\n",
    "    reply_writer = reply.select('#author-text > span.style-scope.ytd-comment-renderer')[0].text.strip()\n",
    "    print(reply_content, reply_writer)"
   ]
  },
  {
   "cell_type": "code",
   "execution_count": 21,
   "id": "a88d9086",
   "metadata": {},
   "outputs": [],
   "source": [
    "#화면 빈 곳을 선택 --> Page Down 버튼을 입력\n",
    "from selenium.webdriver.common.keys import Keys"
   ]
  },
  {
   "cell_type": "code",
   "execution_count": 26,
   "id": "5d8427f2",
   "metadata": {},
   "outputs": [
    {
     "name": "stderr",
     "output_type": "stream",
     "text": [
      "C:\\Users\\cyg05\\AppData\\Local\\Temp/ipykernel_3584/3356039853.py:3: DeprecationWarning: find_element_by_css_selector is deprecated. Please use find_element(by=By.CSS_SELECTOR, value=css_selector) instead\n",
      "  body = browser.find_element_by_css_selector('body')\n"
     ]
    }
   ],
   "source": [
    "#Keys.PAGE_DOWN\n",
    "#화면 빈 곳을 선택\n",
    "body = browser.find_element_by_css_selector('body')\n",
    "body.send_keys(Keys.PAGE_DOWN)\n",
    "body.send_keys(Keys.PAGE_DOWN)\n",
    "body.send_keys(Keys.PAGE_DOWN)\n",
    "body.send_keys(Keys.PAGE_DOWN)"
   ]
  },
  {
   "cell_type": "code",
   "execution_count": 28,
   "id": "34fd6345",
   "metadata": {},
   "outputs": [],
   "source": [
    "import time"
   ]
  },
  {
   "cell_type": "code",
   "execution_count": 29,
   "id": "45933ff4",
   "metadata": {},
   "outputs": [
    {
     "name": "stderr",
     "output_type": "stream",
     "text": [
      "C:\\Users\\cyg05\\AppData\\Local\\Temp/ipykernel_3584/3682255063.py:2: DeprecationWarning: find_element_by_css_selector is deprecated. Please use find_element(by=By.CSS_SELECTOR, value=css_selector) instead\n",
      "  body = browser.find_element_by_css_selector('body')\n"
     ]
    }
   ],
   "source": [
    "for i in range(10):\n",
    "    body = browser.find_element_by_css_selector('body')\n",
    "    body.send_keys(Keys.PAGE_DOWN)\n",
    "    body.send_keys(Keys.PAGE_DOWN)\n",
    "    body.send_keys(Keys.PAGE_DOWN)\n",
    "    body.send_keys(Keys.PAGE_DOWN)\n",
    "    time.sleep(2)"
   ]
  },
  {
   "cell_type": "code",
   "execution_count": null,
   "id": "f6161850",
   "metadata": {},
   "outputs": [],
   "source": []
  }
 ],
 "metadata": {
  "kernelspec": {
   "display_name": "Python 3 (ipykernel)",
   "language": "python",
   "name": "python3"
  },
  "language_info": {
   "codemirror_mode": {
    "name": "ipython",
    "version": 3
   },
   "file_extension": ".py",
   "mimetype": "text/x-python",
   "name": "python",
   "nbconvert_exporter": "python",
   "pygments_lexer": "ipython3",
   "version": "3.9.7"
  }
 },
 "nbformat": 4,
 "nbformat_minor": 5
}
