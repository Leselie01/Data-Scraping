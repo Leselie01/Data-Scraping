{
 "cells": [
  {
   "cell_type": "code",
   "execution_count": 8,
   "id": "1087a6b7",
   "metadata": {},
   "outputs": [],
   "source": [
    "from selenium import webdriver"
   ]
  },
  {
   "cell_type": "code",
   "execution_count": 9,
   "id": "08ef5d87",
   "metadata": {},
   "outputs": [
    {
     "name": "stderr",
     "output_type": "stream",
     "text": [
      "C:\\Users\\cyg05\\AppData\\Local\\Temp/ipykernel_13244/3911693138.py:1: DeprecationWarning: executable_path has been deprecated, please pass in a Service object\n",
      "  browser = webdriver.Chrome('c:/informs/chromedriver.exe')\n"
     ]
    }
   ],
   "source": [
    "browser = webdriver.Chrome('c:/informs/chromedriver.exe')"
   ]
  },
  {
   "cell_type": "code",
   "execution_count": 10,
   "id": "47d3b4dc",
   "metadata": {},
   "outputs": [],
   "source": [
    "# 사이트 접속하기\n",
    "## 구글 - \"넷플릭스 오리지널\" - 첫번째 결과 접속\n",
    "url = 'https://www.netflix.com/kr/browse/genre/839338'\n",
    "browser.get(url)"
   ]
  },
  {
   "cell_type": "code",
   "execution_count": 11,
   "id": "604a7a3e",
   "metadata": {},
   "outputs": [],
   "source": [
    "html = browser.page_source"
   ]
  },
  {
   "cell_type": "code",
   "execution_count": 12,
   "id": "7fb36e02",
   "metadata": {},
   "outputs": [],
   "source": [
    "from bs4 import BeautifulSoup"
   ]
  },
  {
   "cell_type": "code",
   "execution_count": 14,
   "id": "738a23c2",
   "metadata": {},
   "outputs": [],
   "source": [
    "soup = BeautifulSoup(html, 'html.parser')"
   ]
  },
  {
   "cell_type": "code",
   "execution_count": 15,
   "id": "88076459",
   "metadata": {},
   "outputs": [],
   "source": [
    "#soup.select('태그........찾아줘') #조건에 해당하는 모든 태그를 찾아줘... -> 결과는 항상 리스트 형태"
   ]
  },
  {
   "cell_type": "code",
   "execution_count": 16,
   "id": "c09c8fb5",
   "metadata": {},
   "outputs": [],
   "source": [
    "#섹션 찾기\n",
    "# 어디에서 찾을꺼야? --> 변수"
   ]
  },
  {
   "cell_type": "code",
   "execution_count": 17,
   "id": "d06f998e",
   "metadata": {},
   "outputs": [
    {
     "data": {
      "text/plain": [
       "19"
      ]
     },
     "execution_count": 17,
     "metadata": {},
     "output_type": "execute_result"
    }
   ],
   "source": [
    "section_list = soup.select('section')\n",
    "len(section_list)"
   ]
  },
  {
   "cell_type": "code",
   "execution_count": 18,
   "id": "63af100e",
   "metadata": {},
   "outputs": [],
   "source": [
    "# 내가 정답을 알 경우 -> \n",
    "# 내가 정답을 자세히 모를 경우 -> 처음, 마지막, 중간 샘플... 살펴보는 방법"
   ]
  },
  {
   "cell_type": "code",
   "execution_count": 19,
   "id": "d3721bd4",
   "metadata": {},
   "outputs": [
    {
     "data": {
      "text/plain": [
       "'Netflix 인기 콘텐츠소년심판지금 우리 학교는오징어 게임애덤 프로젝트라스트 킹덤마이 네임D.P.로스트 인 스페이스킹덤애나 만들기종이의 집빨간 머리 앤지정생존자기묘한 이야기루시퍼인간수업쥬라기 월드: 백악기 어드벤처코타로는 1인 가구에밀리, 파리에 가다위쳐금붕어 아내브리저튼스위트홈바이킹스: 발할라겨우, 서른꼴찌 마녀 밀드레드더블 타겟지옥고요의 바다컵헤드 쇼!절대쌍교아웃랜더바다 탐험대 옥토넛: 육지 수호 대작전설국열차너의 조각들솔로지옥천성장가오자크일곱 개의 대죄보스 베이비: 돌아온 보스더 크라운레드 노티스범인은 바로 너!나르코스좋아하면 울리는돈 룩 업킹덤: 아신전카케구루이라바 아일랜드F1, 본능의 질주오티스의 비밀 상담소개비의 매직 하우스마이클 조던: 더 라스트 댄스뤼팽먹보와 털보너의 모든 것피키 블라인더스유성화원퀸스 갬빗손오공: 새로운 전설슈퍼키드 디온폭격무브 투 헤븐: 나는 유품정리사입니다첫사랑은 처음이라서검은 욕망승리호엘리트들그녀의 이름은 난노베스트 탐정단오늘부터 히어로마르코 폴로블랙 미러모럴센스장난을 잘 치는 타카기 양오렌지 이즈 더 뉴 블랙'"
      ]
     },
     "execution_count": 19,
     "metadata": {},
     "output_type": "execute_result"
    }
   ],
   "source": [
    "section_list[2].text"
   ]
  },
  {
   "cell_type": "code",
   "execution_count": 20,
   "id": "a57b9cd8",
   "metadata": {},
   "outputs": [
    {
     "data": {
      "text/plain": [
       "'액션 스릴러더 살펴보기폴라레스틀리스스펜서 컨피덴셜트리플 프런티어고스트 워아미 오브 더 데드SAS 특수부대: 라이즈 오브 블랙 스완케이트분노모술브라이트프로젝트 파워얼터드 카본: 리슬리브샤프트자도빌 포위작전스위트 걸익스팅션: 종의 구원자종말의 끝밤이 온다마리아클로즈빌로우제로파라다이스 비치사라진 탄환겟어웨이 드라이버번 아웃상티넬짐승의 시간늑대의 어둠더 스트롱홀드라스트 데이스 오브 아메리칸 크라임베킷서바이벌 캠프스카이 하이위험한 드라이브바르트코비아크메이저 그롬: 플레이그 닥터나는 어떻게 슈퍼히어로가 되었는가하트 샷'"
      ]
     },
     "execution_count": 20,
     "metadata": {},
     "output_type": "execute_result"
    }
   ],
   "source": [
    "section_list[16].text"
   ]
  },
  {
   "cell_type": "code",
   "execution_count": null,
   "id": "9015b12e",
   "metadata": {},
   "outputs": [],
   "source": [
    "browser-> 접속 -> 페이지 소스(html) -> soup \n",
    "1. 섹션/파트/카테고리 \n",
    "2. 섹션 1개 지정.\n",
    "    3. 프로그램 파트 찾기\n",
    "        4. 하나의 프로그램 - 제목 / 이미지/ 링크"
   ]
  },
  {
   "cell_type": "code",
   "execution_count": 22,
   "id": "a90d0dbe",
   "metadata": {},
   "outputs": [],
   "source": [
    "section = section_list[2]"
   ]
  },
  {
   "cell_type": "code",
   "execution_count": null,
   "id": "3a0ccd82",
   "metadata": {},
   "outputs": [],
   "source": [
    "#섹션 내에서 필요한 정보 찾기\n",
    "#section_title = section.select('h2')[0].text\n",
    "#len(section_title)\n",
    "#section_title"
   ]
  },
  {
   "cell_type": "code",
   "execution_count": null,
   "id": "27525de8",
   "metadata": {},
   "outputs": [],
   "source": [
    "# section_list 에서 하나씩 순서대로 section\n",
    "#for section in section_list[2:17]:\n",
    "    ##여기서부터\n",
    "    #section_title = section.select('h2')[0].text\n",
    "    #section_title = section_title.replace('더 살펴보기', '')\n",
    "    #print(section_title)\n",
    "    ##여기까지"
   ]
  },
  {
   "cell_type": "code",
   "execution_count": 23,
   "id": "051cf226",
   "metadata": {},
   "outputs": [
    {
     "data": {
      "text/plain": [
       "<li class=\"nm-content-horizontal-row-item\" data-uia=\"collections-row-item\"><a class=\"nm-collections-title nm-collections-link\" data-uia=\"collections-title\" href=\"https://www.netflix.com/kr/title/81312802\"><img alt=\"\" class=\"nm-collections-title-img\" data-title-id=\"81312802\" src=\"https://occ-0-993-395.1.nflxso.net/dnm/api/v6/X194eJsgWBDE2aQbaNdmCXGUP-Y/AAAABSj6fr7Yw84X4vSC6e7L1PsWLp2r5g-NfTllFq1FHEzodD82lw7593qP16wnZmjCjShKwWG3_7rdeLOogPy0Ljds1EY_Wy5QKx_us_XvQe87OSadytV2XA3rqTyV.jpg?r=85c\"/><span class=\"nm-collections-title-img placeholder\"></span><span class=\"nm-collections-title-name\">소년심판</span></a></li>"
      ]
     },
     "execution_count": 23,
     "metadata": {},
     "output_type": "execute_result"
    }
   ],
   "source": [
    "#프로그램 파트\n",
    "program_list = section.select('li')\n",
    "program_list[0]"
   ]
  },
  {
   "cell_type": "code",
   "execution_count": null,
   "id": "8370adcf",
   "metadata": {},
   "outputs": [],
   "source": [
    "#for section in section_list:\n",
    "    #program_list = section.select('li')\n",
    "    #print(len(program_list))"
   ]
  },
  {
   "cell_type": "code",
   "execution_count": 25,
   "id": "4cb5292c",
   "metadata": {},
   "outputs": [],
   "source": [
    "#하나의 프로그램만 지정하기\n",
    "program = program_list[0]\n",
    "\n",
    "for program in program_list:\n",
    "    program_title = program.select('span.nm-collections-title-name')[0].text\n",
    "    program_img = program.select('img')[0]['src']\n",
    "    program_link = program.select('a')[0]['href']"
   ]
  },
  {
   "cell_type": "code",
   "execution_count": null,
   "id": "558b4b54",
   "metadata": {},
   "outputs": [],
   "source": [
    "# 섹션\n",
    "    #프로그램\n",
    "        #세부정보(제목, 이미지, 링크)"
   ]
  },
  {
   "cell_type": "code",
   "execution_count": null,
   "id": "368bade3",
   "metadata": {},
   "outputs": [],
   "source": [
    "섹션이름| 제목 | 이미지 | 링크\n",
    "섹션이름| 제목 | 이미지 | 링크\n",
    "섹션이름| 제목 | 이미지 | 링크"
   ]
  },
  {
   "cell_type": "code",
   "execution_count": null,
   "id": "2a59c1b8",
   "metadata": {},
   "outputs": [],
   "source": [
    "count"
   ]
  },
  {
   "cell_type": "code",
   "execution_count": 26,
   "id": "4c79dd9d",
   "metadata": {},
   "outputs": [
    {
     "data": {
      "text/plain": [
       "'오렌지 이즈 더 뉴 블랙'"
      ]
     },
     "execution_count": 26,
     "metadata": {},
     "output_type": "execute_result"
    }
   ],
   "source": [
    "program_title = program.select('span.nm-collections-title-name')[0].text\n",
    "program_title"
   ]
  },
  {
   "cell_type": "code",
   "execution_count": 27,
   "id": "66b3a64c",
   "metadata": {
    "scrolled": false
   },
   "outputs": [],
   "source": [
    "count = 0\n",
    "\n",
    "# 하나의 섹션 지정하기 \n",
    "for section in section_list[2:17]:\n",
    "    #섹션 제목 찾기\n",
    "    section_title = section.select('h2')[0].text.replace('더 살펴보기', '')\n",
    "\n",
    "    #프로그램 파트 찾기\n",
    "    program_list = section.select('li')\n",
    "\n",
    "    for program in program_list:\n",
    "\n",
    "        program_title = program.select('span.nm-collections-title-name')[0].text\n",
    "        program_img = program.select('img')[0]['src']\n",
    "        program_link = program.select('a')[0]['href']\n",
    "        count = count + 1    # count += 1    Count = count *2 => count *- 2"
   ]
  },
  {
   "cell_type": "code",
   "execution_count": 28,
   "id": "f67ed649",
   "metadata": {},
   "outputs": [
    {
     "data": {
      "text/plain": [
       "994"
      ]
     },
     "execution_count": 28,
     "metadata": {},
     "output_type": "execute_result"
    }
   ],
   "source": [
    "count"
   ]
  },
  {
   "cell_type": "code",
   "execution_count": 29,
   "id": "07ddb847",
   "metadata": {},
   "outputs": [
    {
     "data": {
      "text/plain": [
       "'data:image/gif;base64,R0lGODlhAQABAAAAACH5BAEKAAEALAAAAAABAAEAAAICTAEAOw=='"
      ]
     },
     "execution_count": 29,
     "metadata": {},
     "output_type": "execute_result"
    }
   ],
   "source": [
    "# <img src = \"https://....이미지주소. png\">\n",
    "program_image = program.select('img')[0]['src']\n",
    "#len(program_image)\n",
    "program_image"
   ]
  },
  {
   "cell_type": "code",
   "execution_count": 30,
   "id": "0e29e676",
   "metadata": {},
   "outputs": [
    {
     "data": {
      "text/plain": [
       "'https://www.netflix.com/kr/title/81343173'"
      ]
     },
     "execution_count": 30,
     "metadata": {},
     "output_type": "execute_result"
    }
   ],
   "source": [
    "program_link = program.select('a')[0]['href']\n",
    "program_link"
   ]
  },
  {
   "cell_type": "code",
   "execution_count": 31,
   "id": "a9b70afb",
   "metadata": {},
   "outputs": [
    {
     "ename": "SyntaxError",
     "evalue": "invalid syntax (Temp/ipykernel_13244/1416607391.py, line 1)",
     "output_type": "error",
     "traceback": [
      "\u001b[1;36m  File \u001b[1;32m\"C:\\Users\\cyg05\\AppData\\Local\\Temp/ipykernel_13244/1416607391.py\"\u001b[1;36m, line \u001b[1;32m1\u001b[0m\n\u001b[1;33m    <a href = \"클릭하면 접속할 페이지 주소\">\u001b[0m\n\u001b[1;37m    ^\u001b[0m\n\u001b[1;31mSyntaxError\u001b[0m\u001b[1;31m:\u001b[0m invalid syntax\n"
     ]
    }
   ],
   "source": [
    "<a href = \"클릭하면 접속할 페이지 주소\">\n",
    "https://www.netflix.com/kr/title/80109194"
   ]
  },
  {
   "cell_type": "code",
   "execution_count": 32,
   "id": "f79a5277",
   "metadata": {},
   "outputs": [],
   "source": [
    "#program = program_list[0]\n",
    "for program in program_list:\n",
    "    program_title = program.select('span.nm-collections-title-name')[0].text"
   ]
  },
  {
   "cell_type": "markdown",
   "id": "43a47c67",
   "metadata": {},
   "source": [
    "# 코드 총정리"
   ]
  },
  {
   "cell_type": "code",
   "execution_count": 43,
   "id": "9607dd41",
   "metadata": {},
   "outputs": [],
   "source": [
    "from selenium import webdriver"
   ]
  },
  {
   "cell_type": "code",
   "execution_count": 44,
   "id": "8d94b81a",
   "metadata": {},
   "outputs": [],
   "source": [
    "from bs4 import BeautifulSoup"
   ]
  },
  {
   "cell_type": "code",
   "execution_count": 45,
   "id": "aa02d8cf",
   "metadata": {},
   "outputs": [
    {
     "name": "stderr",
     "output_type": "stream",
     "text": [
      "C:\\Users\\cyg05\\AppData\\Local\\Temp/ipykernel_13244/2701434742.py:1: DeprecationWarning: executable_path has been deprecated, please pass in a Service object\n",
      "  browser = webdriver.Chrome('c:/informs/chromedriver.exe')\n"
     ]
    }
   ],
   "source": [
    "browser = webdriver.Chrome('c:/informs/chromedriver.exe')\n",
    "url = 'https://www.netflix.com/kr/browse/genre/839338'\n",
    "browser.get(url)\n",
    "html = browser.page_source\n",
    "soup = BeautifulSoup(html, 'html.parser')\n",
    "section_list = soup.select('section')\n",
    "\n",
    "count = 0\n",
    "for section in section_list[2:17]:\n",
    "    section_title = section.select('h2')[0].text.replace('더 살펴보기', '')\n",
    "    program_list = section.select('li')\n",
    "    for program in program_list:\n",
    "        program_title = program.select('span.nm-collections-title-name')[0].text\n",
    "        program_img = program.select('img')[0]['src']\n",
    "        program_link = program.select('a')[0]['href']\n",
    "        count = count + 1"
   ]
  },
  {
   "cell_type": "code",
   "execution_count": 46,
   "id": "4739b735",
   "metadata": {},
   "outputs": [
    {
     "name": "stderr",
     "output_type": "stream",
     "text": [
      "C:\\Users\\cyg05\\AppData\\Local\\Temp/ipykernel_13244/88376469.py:1: DeprecationWarning: executable_path has been deprecated, please pass in a Service object\n",
      "  browser = webdriver.Chrome('c:/informs/chromedriver.exe')\n"
     ]
    }
   ],
   "source": [
    "browser = webdriver.Chrome('c:/informs/chromedriver.exe')\n",
    "url = 'https://www.netflix.com/kr/browse/genre/839338'\n",
    "browser.get(url)\n",
    "html = browser.page_source\n",
    "soup = BeautifulSoup(html, 'html.parser')\n",
    "section_list = soup.select('section')\n",
    "\n",
    "count = 0\n",
    "results = [ ]\n",
    "for section in section_list[2:17]:\n",
    "    section_title = section.select('h2')[0].text.replace('더 살펴보기', '')\n",
    "    program_list = section.select('li')\n",
    "    for program in program_list:\n",
    "        program_title = program.select('span.nm-collections-title-name')[0].text\n",
    "        program_img = program.select('img')[0]['src']\n",
    "        program_link = program.select('a')[0]['href']\n",
    "        data = [ section_title, program_title, program_img, program_link ]\n",
    "        results.append(data)\n",
    "        count = count + 1"
   ]
  },
  {
   "cell_type": "code",
   "execution_count": 47,
   "id": "dba205f7",
   "metadata": {},
   "outputs": [
    {
     "data": {
      "text/plain": [
       "994"
      ]
     },
     "execution_count": 47,
     "metadata": {},
     "output_type": "execute_result"
    }
   ],
   "source": [
    "len(results)"
   ]
  },
  {
   "cell_type": "code",
   "execution_count": 48,
   "id": "7f305dae",
   "metadata": {},
   "outputs": [],
   "source": [
    "# 수집한 데이터 저장 방법\n",
    "# json. {'이름' : '값'}\n",
    "# DB <-- SQL\n",
    "# excel(.xsxl) <-- pandas\n",
    "# .csv <-- pandas"
   ]
  },
  {
   "cell_type": "code",
   "execution_count": 49,
   "id": "de128545",
   "metadata": {},
   "outputs": [],
   "source": [
    "import pandas as pd"
   ]
  },
  {
   "cell_type": "code",
   "execution_count": 50,
   "id": "af7064ab",
   "metadata": {},
   "outputs": [
    {
     "data": {
      "text/html": [
       "<div>\n",
       "<style scoped>\n",
       "    .dataframe tbody tr th:only-of-type {\n",
       "        vertical-align: middle;\n",
       "    }\n",
       "\n",
       "    .dataframe tbody tr th {\n",
       "        vertical-align: top;\n",
       "    }\n",
       "\n",
       "    .dataframe thead th {\n",
       "        text-align: right;\n",
       "    }\n",
       "</style>\n",
       "<table border=\"1\" class=\"dataframe\">\n",
       "  <thead>\n",
       "    <tr style=\"text-align: right;\">\n",
       "      <th></th>\n",
       "      <th>0</th>\n",
       "      <th>1</th>\n",
       "      <th>2</th>\n",
       "      <th>3</th>\n",
       "    </tr>\n",
       "  </thead>\n",
       "  <tbody>\n",
       "    <tr>\n",
       "      <th>0</th>\n",
       "      <td>Netflix 인기 콘텐츠</td>\n",
       "      <td>소년심판</td>\n",
       "      <td>https://occ-0-988-993.1.nflxso.net/dnm/api/v6/...</td>\n",
       "      <td>https://www.netflix.com/kr/title/81312802</td>\n",
       "    </tr>\n",
       "    <tr>\n",
       "      <th>1</th>\n",
       "      <td>Netflix 인기 콘텐츠</td>\n",
       "      <td>지금 우리 학교는</td>\n",
       "      <td>https://occ-0-988-993.1.nflxso.net/dnm/api/v6/...</td>\n",
       "      <td>https://www.netflix.com/kr/title/81237994</td>\n",
       "    </tr>\n",
       "    <tr>\n",
       "      <th>2</th>\n",
       "      <td>Netflix 인기 콘텐츠</td>\n",
       "      <td>오징어 게임</td>\n",
       "      <td>https://occ-0-988-993.1.nflxso.net/dnm/api/v6/...</td>\n",
       "      <td>https://www.netflix.com/kr/title/81040344</td>\n",
       "    </tr>\n",
       "    <tr>\n",
       "      <th>3</th>\n",
       "      <td>Netflix 인기 콘텐츠</td>\n",
       "      <td>애덤 프로젝트</td>\n",
       "      <td>https://occ-0-988-993.1.nflxso.net/dnm/api/v6/...</td>\n",
       "      <td>https://www.netflix.com/kr/title/81309354</td>\n",
       "    </tr>\n",
       "    <tr>\n",
       "      <th>4</th>\n",
       "      <td>Netflix 인기 콘텐츠</td>\n",
       "      <td>라스트 킹덤</td>\n",
       "      <td>https://occ-0-988-993.1.nflxso.net/dnm/api/v6/...</td>\n",
       "      <td>https://www.netflix.com/kr/title/80074249</td>\n",
       "    </tr>\n",
       "    <tr>\n",
       "      <th>...</th>\n",
       "      <td>...</td>\n",
       "      <td>...</td>\n",
       "      <td>...</td>\n",
       "      <td>...</td>\n",
       "    </tr>\n",
       "    <tr>\n",
       "      <th>989</th>\n",
       "      <td>액션 스릴러</td>\n",
       "      <td>위험한 드라이브</td>\n",
       "      <td>data:image/gif;base64,R0lGODlhAQABAAAAACH5BAEK...</td>\n",
       "      <td>https://www.netflix.com/kr/title/81189912</td>\n",
       "    </tr>\n",
       "    <tr>\n",
       "      <th>990</th>\n",
       "      <td>액션 스릴러</td>\n",
       "      <td>바르트코비아크</td>\n",
       "      <td>data:image/gif;base64,R0lGODlhAQABAAAAACH5BAEK...</td>\n",
       "      <td>https://www.netflix.com/kr/title/81265968</td>\n",
       "    </tr>\n",
       "    <tr>\n",
       "      <th>991</th>\n",
       "      <td>액션 스릴러</td>\n",
       "      <td>메이저 그롬: 플레이그 닥터</td>\n",
       "      <td>data:image/gif;base64,R0lGODlhAQABAAAAACH5BAEK...</td>\n",
       "      <td>https://www.netflix.com/kr/title/81438809</td>\n",
       "    </tr>\n",
       "    <tr>\n",
       "      <th>992</th>\n",
       "      <td>액션 스릴러</td>\n",
       "      <td>나는 어떻게 슈퍼히어로가 되었는가</td>\n",
       "      <td>data:image/gif;base64,R0lGODlhAQABAAAAACH5BAEK...</td>\n",
       "      <td>https://www.netflix.com/kr/title/81453003</td>\n",
       "    </tr>\n",
       "    <tr>\n",
       "      <th>993</th>\n",
       "      <td>액션 스릴러</td>\n",
       "      <td>하트 샷</td>\n",
       "      <td>data:image/gif;base64,R0lGODlhAQABAAAAACH5BAEK...</td>\n",
       "      <td>https://www.netflix.com/kr/title/81343173</td>\n",
       "    </tr>\n",
       "  </tbody>\n",
       "</table>\n",
       "<p>994 rows × 4 columns</p>\n",
       "</div>"
      ],
      "text/plain": [
       "                  0                   1  \\\n",
       "0    Netflix 인기 콘텐츠                소년심판   \n",
       "1    Netflix 인기 콘텐츠           지금 우리 학교는   \n",
       "2    Netflix 인기 콘텐츠              오징어 게임   \n",
       "3    Netflix 인기 콘텐츠             애덤 프로젝트   \n",
       "4    Netflix 인기 콘텐츠              라스트 킹덤   \n",
       "..              ...                 ...   \n",
       "989          액션 스릴러            위험한 드라이브   \n",
       "990          액션 스릴러             바르트코비아크   \n",
       "991          액션 스릴러     메이저 그롬: 플레이그 닥터   \n",
       "992          액션 스릴러  나는 어떻게 슈퍼히어로가 되었는가   \n",
       "993          액션 스릴러                하트 샷   \n",
       "\n",
       "                                                     2  \\\n",
       "0    https://occ-0-988-993.1.nflxso.net/dnm/api/v6/...   \n",
       "1    https://occ-0-988-993.1.nflxso.net/dnm/api/v6/...   \n",
       "2    https://occ-0-988-993.1.nflxso.net/dnm/api/v6/...   \n",
       "3    https://occ-0-988-993.1.nflxso.net/dnm/api/v6/...   \n",
       "4    https://occ-0-988-993.1.nflxso.net/dnm/api/v6/...   \n",
       "..                                                 ...   \n",
       "989  data:image/gif;base64,R0lGODlhAQABAAAAACH5BAEK...   \n",
       "990  data:image/gif;base64,R0lGODlhAQABAAAAACH5BAEK...   \n",
       "991  data:image/gif;base64,R0lGODlhAQABAAAAACH5BAEK...   \n",
       "992  data:image/gif;base64,R0lGODlhAQABAAAAACH5BAEK...   \n",
       "993  data:image/gif;base64,R0lGODlhAQABAAAAACH5BAEK...   \n",
       "\n",
       "                                             3  \n",
       "0    https://www.netflix.com/kr/title/81312802  \n",
       "1    https://www.netflix.com/kr/title/81237994  \n",
       "2    https://www.netflix.com/kr/title/81040344  \n",
       "3    https://www.netflix.com/kr/title/81309354  \n",
       "4    https://www.netflix.com/kr/title/80074249  \n",
       "..                                         ...  \n",
       "989  https://www.netflix.com/kr/title/81189912  \n",
       "990  https://www.netflix.com/kr/title/81265968  \n",
       "991  https://www.netflix.com/kr/title/81438809  \n",
       "992  https://www.netflix.com/kr/title/81453003  \n",
       "993  https://www.netflix.com/kr/title/81343173  \n",
       "\n",
       "[994 rows x 4 columns]"
      ]
     },
     "execution_count": 50,
     "metadata": {},
     "output_type": "execute_result"
    }
   ],
   "source": [
    "df = pd.DataFrame(results)\n",
    "df"
   ]
  },
  {
   "cell_type": "code",
   "execution_count": 51,
   "id": "ae164d5f",
   "metadata": {},
   "outputs": [
    {
     "data": {
      "text/html": [
       "<div>\n",
       "<style scoped>\n",
       "    .dataframe tbody tr th:only-of-type {\n",
       "        vertical-align: middle;\n",
       "    }\n",
       "\n",
       "    .dataframe tbody tr th {\n",
       "        vertical-align: top;\n",
       "    }\n",
       "\n",
       "    .dataframe thead th {\n",
       "        text-align: right;\n",
       "    }\n",
       "</style>\n",
       "<table border=\"1\" class=\"dataframe\">\n",
       "  <thead>\n",
       "    <tr style=\"text-align: right;\">\n",
       "      <th></th>\n",
       "      <th>카테고리</th>\n",
       "      <th>프로그램명</th>\n",
       "      <th>이미지</th>\n",
       "      <th>링크</th>\n",
       "    </tr>\n",
       "  </thead>\n",
       "  <tbody>\n",
       "    <tr>\n",
       "      <th>0</th>\n",
       "      <td>Netflix 인기 콘텐츠</td>\n",
       "      <td>소년심판</td>\n",
       "      <td>https://occ-0-988-993.1.nflxso.net/dnm/api/v6/...</td>\n",
       "      <td>https://www.netflix.com/kr/title/81312802</td>\n",
       "    </tr>\n",
       "    <tr>\n",
       "      <th>1</th>\n",
       "      <td>Netflix 인기 콘텐츠</td>\n",
       "      <td>지금 우리 학교는</td>\n",
       "      <td>https://occ-0-988-993.1.nflxso.net/dnm/api/v6/...</td>\n",
       "      <td>https://www.netflix.com/kr/title/81237994</td>\n",
       "    </tr>\n",
       "    <tr>\n",
       "      <th>2</th>\n",
       "      <td>Netflix 인기 콘텐츠</td>\n",
       "      <td>오징어 게임</td>\n",
       "      <td>https://occ-0-988-993.1.nflxso.net/dnm/api/v6/...</td>\n",
       "      <td>https://www.netflix.com/kr/title/81040344</td>\n",
       "    </tr>\n",
       "    <tr>\n",
       "      <th>3</th>\n",
       "      <td>Netflix 인기 콘텐츠</td>\n",
       "      <td>애덤 프로젝트</td>\n",
       "      <td>https://occ-0-988-993.1.nflxso.net/dnm/api/v6/...</td>\n",
       "      <td>https://www.netflix.com/kr/title/81309354</td>\n",
       "    </tr>\n",
       "    <tr>\n",
       "      <th>4</th>\n",
       "      <td>Netflix 인기 콘텐츠</td>\n",
       "      <td>라스트 킹덤</td>\n",
       "      <td>https://occ-0-988-993.1.nflxso.net/dnm/api/v6/...</td>\n",
       "      <td>https://www.netflix.com/kr/title/80074249</td>\n",
       "    </tr>\n",
       "    <tr>\n",
       "      <th>...</th>\n",
       "      <td>...</td>\n",
       "      <td>...</td>\n",
       "      <td>...</td>\n",
       "      <td>...</td>\n",
       "    </tr>\n",
       "    <tr>\n",
       "      <th>989</th>\n",
       "      <td>액션 스릴러</td>\n",
       "      <td>위험한 드라이브</td>\n",
       "      <td>data:image/gif;base64,R0lGODlhAQABAAAAACH5BAEK...</td>\n",
       "      <td>https://www.netflix.com/kr/title/81189912</td>\n",
       "    </tr>\n",
       "    <tr>\n",
       "      <th>990</th>\n",
       "      <td>액션 스릴러</td>\n",
       "      <td>바르트코비아크</td>\n",
       "      <td>data:image/gif;base64,R0lGODlhAQABAAAAACH5BAEK...</td>\n",
       "      <td>https://www.netflix.com/kr/title/81265968</td>\n",
       "    </tr>\n",
       "    <tr>\n",
       "      <th>991</th>\n",
       "      <td>액션 스릴러</td>\n",
       "      <td>메이저 그롬: 플레이그 닥터</td>\n",
       "      <td>data:image/gif;base64,R0lGODlhAQABAAAAACH5BAEK...</td>\n",
       "      <td>https://www.netflix.com/kr/title/81438809</td>\n",
       "    </tr>\n",
       "    <tr>\n",
       "      <th>992</th>\n",
       "      <td>액션 스릴러</td>\n",
       "      <td>나는 어떻게 슈퍼히어로가 되었는가</td>\n",
       "      <td>data:image/gif;base64,R0lGODlhAQABAAAAACH5BAEK...</td>\n",
       "      <td>https://www.netflix.com/kr/title/81453003</td>\n",
       "    </tr>\n",
       "    <tr>\n",
       "      <th>993</th>\n",
       "      <td>액션 스릴러</td>\n",
       "      <td>하트 샷</td>\n",
       "      <td>data:image/gif;base64,R0lGODlhAQABAAAAACH5BAEK...</td>\n",
       "      <td>https://www.netflix.com/kr/title/81343173</td>\n",
       "    </tr>\n",
       "  </tbody>\n",
       "</table>\n",
       "<p>994 rows × 4 columns</p>\n",
       "</div>"
      ],
      "text/plain": [
       "               카테고리               프로그램명  \\\n",
       "0    Netflix 인기 콘텐츠                소년심판   \n",
       "1    Netflix 인기 콘텐츠           지금 우리 학교는   \n",
       "2    Netflix 인기 콘텐츠              오징어 게임   \n",
       "3    Netflix 인기 콘텐츠             애덤 프로젝트   \n",
       "4    Netflix 인기 콘텐츠              라스트 킹덤   \n",
       "..              ...                 ...   \n",
       "989          액션 스릴러            위험한 드라이브   \n",
       "990          액션 스릴러             바르트코비아크   \n",
       "991          액션 스릴러     메이저 그롬: 플레이그 닥터   \n",
       "992          액션 스릴러  나는 어떻게 슈퍼히어로가 되었는가   \n",
       "993          액션 스릴러                하트 샷   \n",
       "\n",
       "                                                   이미지  \\\n",
       "0    https://occ-0-988-993.1.nflxso.net/dnm/api/v6/...   \n",
       "1    https://occ-0-988-993.1.nflxso.net/dnm/api/v6/...   \n",
       "2    https://occ-0-988-993.1.nflxso.net/dnm/api/v6/...   \n",
       "3    https://occ-0-988-993.1.nflxso.net/dnm/api/v6/...   \n",
       "4    https://occ-0-988-993.1.nflxso.net/dnm/api/v6/...   \n",
       "..                                                 ...   \n",
       "989  data:image/gif;base64,R0lGODlhAQABAAAAACH5BAEK...   \n",
       "990  data:image/gif;base64,R0lGODlhAQABAAAAACH5BAEK...   \n",
       "991  data:image/gif;base64,R0lGODlhAQABAAAAACH5BAEK...   \n",
       "992  data:image/gif;base64,R0lGODlhAQABAAAAACH5BAEK...   \n",
       "993  data:image/gif;base64,R0lGODlhAQABAAAAACH5BAEK...   \n",
       "\n",
       "                                            링크  \n",
       "0    https://www.netflix.com/kr/title/81312802  \n",
       "1    https://www.netflix.com/kr/title/81237994  \n",
       "2    https://www.netflix.com/kr/title/81040344  \n",
       "3    https://www.netflix.com/kr/title/81309354  \n",
       "4    https://www.netflix.com/kr/title/80074249  \n",
       "..                                         ...  \n",
       "989  https://www.netflix.com/kr/title/81189912  \n",
       "990  https://www.netflix.com/kr/title/81265968  \n",
       "991  https://www.netflix.com/kr/title/81438809  \n",
       "992  https://www.netflix.com/kr/title/81453003  \n",
       "993  https://www.netflix.com/kr/title/81343173  \n",
       "\n",
       "[994 rows x 4 columns]"
      ]
     },
     "execution_count": 51,
     "metadata": {},
     "output_type": "execute_result"
    }
   ],
   "source": [
    "#컬럼 변경하기\n",
    "df.columns = ['카테고리', '프로그램명', '이미지', '링크']\n",
    "df"
   ]
  },
  {
   "cell_type": "code",
   "execution_count": null,
   "id": "6a45049d",
   "metadata": {},
   "outputs": [],
   "source": [
    "#엑셀 파일에 저장하기\n",
    "#df.to_excel('엑셀파일저장하기.xlsx', index = False)\n",
    "df.to_excel('./엑셀파일저장하기.xlsx', index = False) #./ 현재경로: 주피터노트북 존재하는 폴더 위치."
   ]
  }
 ],
 "metadata": {
  "kernelspec": {
   "display_name": "Python 3 (ipykernel)",
   "language": "python",
   "name": "python3"
  },
  "language_info": {
   "codemirror_mode": {
    "name": "ipython",
    "version": 3
   },
   "file_extension": ".py",
   "mimetype": "text/x-python",
   "name": "python",
   "nbconvert_exporter": "python",
   "pygments_lexer": "ipython3",
   "version": "3.9.7"
  }
 },
 "nbformat": 4,
 "nbformat_minor": 5
}
